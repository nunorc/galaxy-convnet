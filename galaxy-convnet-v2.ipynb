{
  "nbformat": 4,
  "nbformat_minor": 0,
  "metadata": {
    "colab": {
      "name": "galaxy_convnet_v2.ipynb",
      "provenance": [],
      "collapsed_sections": []
    },
    "kernelspec": {
      "name": "python3",
      "display_name": "Python 3"
    },
    "accelerator": "GPU"
  },
  "cells": [
    {
      "cell_type": "markdown",
      "metadata": {
        "id": "YDX7J_bAJj_s",
        "colab_type": "text"
      },
      "source": [
        "# Galaxies Morphology Classification Using Convolutional Neural Networks\n",
        "\n",
        "## Model v2"
      ]
    },
    {
      "cell_type": "markdown",
      "metadata": {
        "id": "fGL3NOaiI3K_",
        "colab_type": "text"
      },
      "source": [
        "Import required libraries."
      ]
    },
    {
      "cell_type": "code",
      "metadata": {
        "id": "YkCzOUUWYzRQ",
        "colab_type": "code",
        "colab": {}
      },
      "source": [
        "import os, random, shutil\n",
        "import tensorflow as tf\n",
        "import matplotlib.pyplot as plt"
      ],
      "execution_count": 0,
      "outputs": []
    },
    {
      "cell_type": "code",
      "metadata": {
        "id": "c7U8G4nagU5-",
        "colab_type": "code",
        "outputId": "cc9a58e4-8dd3-43e2-ba04-03ea34a992c5",
        "colab": {
          "base_uri": "https://localhost:8080/",
          "height": 34
        }
      },
      "source": [
        "print(tf.__version__)  # check tensorflow version"
      ],
      "execution_count": 3,
      "outputs": [
        {
          "output_type": "stream",
          "text": [
            "2.2.0\n"
          ],
          "name": "stdout"
        }
      ]
    },
    {
      "cell_type": "markdown",
      "metadata": {
        "id": "93ctGzKGClgr",
        "colab_type": "text"
      },
      "source": [
        "The data set used is built using the the notebook available in the GitHub repository: https://github.com/nunorc/galaxy-convnet\n",
        "\n",
        "Set the train and validation directory with the images."
      ]
    },
    {
      "cell_type": "code",
      "metadata": {
        "id": "HOLUHU_Tfutt",
        "colab_type": "code",
        "colab": {}
      },
      "source": [
        "train_dir = 'data/train'\n",
        "validation_dir = 'data/validation'"
      ],
      "execution_count": 0,
      "outputs": []
    },
    {
      "cell_type": "markdown",
      "metadata": {
        "id": "bSY0yoZ6Hxg4",
        "colab_type": "text"
      },
      "source": [
        "Get the total images in the training and validation dataset, this should be around 8044 images for training, and 3450 for validation."
      ]
    },
    {
      "cell_type": "code",
      "metadata": {
        "id": "LIpAiD5dFTlw",
        "colab_type": "code",
        "outputId": "dd279e33-780c-4d28-e42b-d00ff57f78f4",
        "colab": {
          "base_uri": "https://localhost:8080/",
          "height": 51
        }
      },
      "source": [
        "total_train = 0\n",
        "for c in ['elliptical', 'lenticular', 'spiral']:\n",
        "  total_train += len(os.listdir(os.path.join(train_dir, c)))\n",
        "print('Total train:', total_train)\n",
        "\n",
        "total_validation = 0\n",
        "for c in ['elliptical', 'lenticular', 'spiral']:\n",
        "  total_validation += len(os.listdir(os.path.join(validation_dir, c)))\n",
        "print('Total validation:', total_validation)"
      ],
      "execution_count": 5,
      "outputs": [
        {
          "output_type": "stream",
          "text": [
            "Total train: 8044\n",
            "Total validation: 3450\n"
          ],
          "name": "stdout"
        }
      ]
    },
    {
      "cell_type": "markdown",
      "metadata": {
        "id": "Z2iI2VaDDItL",
        "colab_type": "text"
      },
      "source": [
        "Set the batch size."
      ]
    },
    {
      "cell_type": "code",
      "metadata": {
        "id": "wQNtt1aiC4Fr",
        "colab_type": "code",
        "colab": {}
      },
      "source": [
        "BS = 32"
      ],
      "execution_count": 0,
      "outputs": []
    },
    {
      "cell_type": "markdown",
      "metadata": {
        "id": "z3m5y4gYH8ZP",
        "colab_type": "text"
      },
      "source": [
        "Create the data generator for both sets, but now with image augmentation, where random operations are made on images like random shifts or rotations on each batch, stil do the rescale and set the target size."
      ]
    },
    {
      "cell_type": "code",
      "metadata": {
        "id": "I8sLPXVxf-GR",
        "colab_type": "code",
        "outputId": "de01b407-c243-49db-e57c-6d8e425a23d0",
        "colab": {
          "base_uri": "https://localhost:8080/",
          "height": 51
        }
      },
      "source": [
        "train_datagen = tf.keras.preprocessing.image.ImageDataGenerator(\n",
        "                    rescale=1.0/255,\n",
        "                    rotation_range=25,\n",
        "                    width_shift_range=.15,\n",
        "                    height_shift_range=.15,\n",
        "                    horizontal_flip=True,\n",
        "                    zoom_range=0.2)\n",
        "validation_datagen  = tf.keras.preprocessing.image.ImageDataGenerator(\n",
        "    rescale=1.0/255.)\n",
        "train_generator = train_datagen.flow_from_directory(train_dir,\n",
        "                                                    target_size=(150,150),\n",
        "                                                    batch_size=BS,\n",
        "                                                    shuffle=True,\n",
        "                                                    class_mode='categorical')\n",
        "validation_generator = train_datagen.flow_from_directory(validation_dir,\n",
        "                                                         target_size=(150,150),\n",
        "                                                         batch_size=BS,\n",
        "                                                         shuffle=False,\n",
        "                                                         class_mode='categorical')"
      ],
      "execution_count": 7,
      "outputs": [
        {
          "output_type": "stream",
          "text": [
            "Found 8044 images belonging to 3 classes.\n",
            "Found 3450 images belonging to 3 classes.\n"
          ],
          "name": "stdout"
        }
      ]
    },
    {
      "cell_type": "markdown",
      "metadata": {
        "id": "eMS7Wc6rIR4_",
        "colab_type": "text"
      },
      "source": [
        "Create the model, using a sequence of convolution and pooling layers, followed by a dropout layer, a fully connected layer, and the last softmax layer."
      ]
    },
    {
      "cell_type": "code",
      "metadata": {
        "id": "-mf_dykSGmnQ",
        "colab_type": "code",
        "colab": {}
      },
      "source": [
        "model = tf.keras.models.Sequential([\n",
        "    # first convolution layer, input is an 150x150 image x3 colors\n",
        "    tf.keras.layers.Conv2D(64, (3,3), activation='relu', input_shape=(150, 150, 3)),\n",
        "    tf.keras.layers.MaxPooling2D(2, 2),\n",
        "    # second convolution layer\n",
        "    tf.keras.layers.Conv2D(64, (3,3), activation='relu'),\n",
        "    tf.keras.layers.MaxPooling2D(2,2),\n",
        "    # third convolution layer\n",
        "    tf.keras.layers.Conv2D(128, (3,3), activation='relu'),\n",
        "    tf.keras.layers.MaxPooling2D(2,2),\n",
        "    # fourth convolution layer\n",
        "    tf.keras.layers.Conv2D(128, (3,3), activation='relu'),\n",
        "    tf.keras.layers.MaxPooling2D(2,2),\n",
        "    # flatten the image pixels\n",
        "    tf.keras.layers.Flatten(),\n",
        "    tf.keras.layers.Dropout(0.5),\n",
        "    # 512 neuron fully connected hidden layer\n",
        "    tf.keras.layers.Dense(512, activation='relu'),\n",
        "    tf.keras.layers.Dense(3, activation='softmax')\n",
        "])"
      ],
      "execution_count": 0,
      "outputs": []
    },
    {
      "cell_type": "code",
      "metadata": {
        "id": "NWD5tuWiaKW9",
        "colab_type": "code",
        "outputId": "cc003935-ae35-491e-fa2e-bd5be28d60bd",
        "colab": {
          "base_uri": "https://localhost:8080/",
          "height": 561
        }
      },
      "source": [
        "model.summary()  # inspect model "
      ],
      "execution_count": 9,
      "outputs": [
        {
          "output_type": "stream",
          "text": [
            "Model: \"sequential\"\n",
            "_________________________________________________________________\n",
            "Layer (type)                 Output Shape              Param #   \n",
            "=================================================================\n",
            "conv2d (Conv2D)              (None, 148, 148, 64)      1792      \n",
            "_________________________________________________________________\n",
            "max_pooling2d (MaxPooling2D) (None, 74, 74, 64)        0         \n",
            "_________________________________________________________________\n",
            "conv2d_1 (Conv2D)            (None, 72, 72, 64)        36928     \n",
            "_________________________________________________________________\n",
            "max_pooling2d_1 (MaxPooling2 (None, 36, 36, 64)        0         \n",
            "_________________________________________________________________\n",
            "conv2d_2 (Conv2D)            (None, 34, 34, 128)       73856     \n",
            "_________________________________________________________________\n",
            "max_pooling2d_2 (MaxPooling2 (None, 17, 17, 128)       0         \n",
            "_________________________________________________________________\n",
            "conv2d_3 (Conv2D)            (None, 15, 15, 128)       147584    \n",
            "_________________________________________________________________\n",
            "max_pooling2d_3 (MaxPooling2 (None, 7, 7, 128)         0         \n",
            "_________________________________________________________________\n",
            "flatten (Flatten)            (None, 6272)              0         \n",
            "_________________________________________________________________\n",
            "dropout (Dropout)            (None, 6272)              0         \n",
            "_________________________________________________________________\n",
            "dense (Dense)                (None, 512)               3211776   \n",
            "_________________________________________________________________\n",
            "dense_1 (Dense)              (None, 3)                 1539      \n",
            "=================================================================\n",
            "Total params: 3,473,475\n",
            "Trainable params: 3,473,475\n",
            "Non-trainable params: 0\n",
            "_________________________________________________________________\n"
          ],
          "name": "stdout"
        }
      ]
    },
    {
      "cell_type": "markdown",
      "metadata": {
        "id": "830T4eaxIkgf",
        "colab_type": "text"
      },
      "source": [
        "Compile the model to use a categorical cross entropy loss function, and a adam optmizier."
      ]
    },
    {
      "cell_type": "code",
      "metadata": {
        "id": "xhKgbehBGpHs",
        "colab_type": "code",
        "colab": {}
      },
      "source": [
        "model.compile(loss='categorical_crossentropy',\n",
        "              optimizer='adam',\n",
        "              metrics=['accuracy'])"
      ],
      "execution_count": 0,
      "outputs": []
    },
    {
      "cell_type": "markdown",
      "metadata": {
        "id": "pPV50ATbIn6n",
        "colab_type": "text"
      },
      "source": [
        "Train the model for 100 epochs."
      ]
    },
    {
      "cell_type": "code",
      "metadata": {
        "id": "d-sxyDRhhbXN",
        "colab_type": "code",
        "colab": {}
      },
      "source": [
        "EPOCHS = 100"
      ],
      "execution_count": 0,
      "outputs": []
    },
    {
      "cell_type": "code",
      "metadata": {
        "id": "zr2SAE6cGrbU",
        "colab_type": "code",
        "outputId": "ed82e47a-a686-40e5-b46e-abdb9b460af4",
        "colab": {
          "base_uri": "https://localhost:8080/",
          "height": 1000
        }
      },
      "source": [
        "history = model.fit(train_generator,\n",
        "                    epochs=EPOCHS,\n",
        "                    validation_data=validation_generator,\n",
        "                    verbose=1)"
      ],
      "execution_count": 12,
      "outputs": [
        {
          "output_type": "stream",
          "text": [
            "Epoch 1/100\n",
            "252/252 [==============================] - 100s 398ms/step - loss: 0.7863 - accuracy: 0.5687 - val_loss: 0.6088 - val_accuracy: 0.6594\n",
            "Epoch 2/100\n",
            "252/252 [==============================] - 100s 396ms/step - loss: 0.5932 - accuracy: 0.6796 - val_loss: 0.5360 - val_accuracy: 0.6899\n",
            "Epoch 3/100\n",
            "252/252 [==============================] - 99s 393ms/step - loss: 0.5665 - accuracy: 0.7041 - val_loss: 0.4790 - val_accuracy: 0.7594\n",
            "Epoch 4/100\n",
            "252/252 [==============================] - 99s 392ms/step - loss: 0.5282 - accuracy: 0.7241 - val_loss: 0.5183 - val_accuracy: 0.7348\n",
            "Epoch 5/100\n",
            "252/252 [==============================] - 98s 390ms/step - loss: 0.5098 - accuracy: 0.7445 - val_loss: 0.4745 - val_accuracy: 0.7551\n",
            "Epoch 6/100\n",
            "252/252 [==============================] - 99s 393ms/step - loss: 0.5010 - accuracy: 0.7545 - val_loss: 0.4237 - val_accuracy: 0.8093\n",
            "Epoch 7/100\n",
            "252/252 [==============================] - 98s 391ms/step - loss: 0.4878 - accuracy: 0.7622 - val_loss: 0.4146 - val_accuracy: 0.8130\n",
            "Epoch 8/100\n",
            "252/252 [==============================] - 99s 393ms/step - loss: 0.4625 - accuracy: 0.7801 - val_loss: 0.4098 - val_accuracy: 0.8122\n",
            "Epoch 9/100\n",
            "252/252 [==============================] - 101s 401ms/step - loss: 0.4547 - accuracy: 0.7864 - val_loss: 0.4164 - val_accuracy: 0.8029\n",
            "Epoch 10/100\n",
            "252/252 [==============================] - 102s 405ms/step - loss: 0.4496 - accuracy: 0.7879 - val_loss: 0.3869 - val_accuracy: 0.8229\n",
            "Epoch 11/100\n",
            "252/252 [==============================] - 102s 407ms/step - loss: 0.4416 - accuracy: 0.7982 - val_loss: 0.4294 - val_accuracy: 0.7965\n",
            "Epoch 12/100\n",
            "252/252 [==============================] - 104s 411ms/step - loss: 0.4272 - accuracy: 0.8043 - val_loss: 0.4371 - val_accuracy: 0.7890\n",
            "Epoch 13/100\n",
            "252/252 [==============================] - 103s 410ms/step - loss: 0.4503 - accuracy: 0.7888 - val_loss: 0.4290 - val_accuracy: 0.7945\n",
            "Epoch 14/100\n",
            "252/252 [==============================] - 103s 410ms/step - loss: 0.4235 - accuracy: 0.8023 - val_loss: 0.3834 - val_accuracy: 0.8330\n",
            "Epoch 15/100\n",
            "252/252 [==============================] - 104s 411ms/step - loss: 0.4237 - accuracy: 0.8005 - val_loss: 0.4342 - val_accuracy: 0.7899\n",
            "Epoch 16/100\n",
            "252/252 [==============================] - 103s 410ms/step - loss: 0.4149 - accuracy: 0.8097 - val_loss: 0.3767 - val_accuracy: 0.8252\n",
            "Epoch 17/100\n",
            "252/252 [==============================] - 103s 408ms/step - loss: 0.4073 - accuracy: 0.8141 - val_loss: 0.4138 - val_accuracy: 0.7980\n",
            "Epoch 18/100\n",
            "252/252 [==============================] - 102s 403ms/step - loss: 0.4068 - accuracy: 0.8110 - val_loss: 0.3786 - val_accuracy: 0.8209\n",
            "Epoch 19/100\n",
            "252/252 [==============================] - 100s 399ms/step - loss: 0.3980 - accuracy: 0.8174 - val_loss: 0.3766 - val_accuracy: 0.8301\n",
            "Epoch 20/100\n",
            "252/252 [==============================] - 99s 391ms/step - loss: 0.4040 - accuracy: 0.8158 - val_loss: 0.3843 - val_accuracy: 0.8258\n",
            "Epoch 21/100\n",
            "252/252 [==============================] - 99s 391ms/step - loss: 0.4067 - accuracy: 0.8143 - val_loss: 0.3804 - val_accuracy: 0.8214\n",
            "Epoch 22/100\n",
            "252/252 [==============================] - 98s 390ms/step - loss: 0.3883 - accuracy: 0.8243 - val_loss: 0.3800 - val_accuracy: 0.8229\n",
            "Epoch 23/100\n",
            "252/252 [==============================] - 100s 396ms/step - loss: 0.3911 - accuracy: 0.8205 - val_loss: 0.4398 - val_accuracy: 0.7843\n",
            "Epoch 24/100\n",
            "252/252 [==============================] - 101s 401ms/step - loss: 0.3811 - accuracy: 0.8283 - val_loss: 0.4140 - val_accuracy: 0.8157\n",
            "Epoch 25/100\n",
            "252/252 [==============================] - 99s 395ms/step - loss: 0.3905 - accuracy: 0.8230 - val_loss: 0.3616 - val_accuracy: 0.8310\n",
            "Epoch 26/100\n",
            "252/252 [==============================] - 99s 391ms/step - loss: 0.3834 - accuracy: 0.8265 - val_loss: 0.3581 - val_accuracy: 0.8362\n",
            "Epoch 27/100\n",
            "252/252 [==============================] - 100s 395ms/step - loss: 0.4009 - accuracy: 0.8195 - val_loss: 0.3896 - val_accuracy: 0.8159\n",
            "Epoch 28/100\n",
            "252/252 [==============================] - 100s 397ms/step - loss: 0.3898 - accuracy: 0.8248 - val_loss: 0.3763 - val_accuracy: 0.8394\n",
            "Epoch 29/100\n",
            "252/252 [==============================] - 100s 396ms/step - loss: 0.3826 - accuracy: 0.8296 - val_loss: 0.3658 - val_accuracy: 0.8377\n",
            "Epoch 30/100\n",
            "252/252 [==============================] - 100s 396ms/step - loss: 0.3848 - accuracy: 0.8289 - val_loss: 0.3945 - val_accuracy: 0.8110\n",
            "Epoch 31/100\n",
            "252/252 [==============================] - 100s 397ms/step - loss: 0.3829 - accuracy: 0.8273 - val_loss: 0.3842 - val_accuracy: 0.8264\n",
            "Epoch 32/100\n",
            "252/252 [==============================] - 100s 399ms/step - loss: 0.3703 - accuracy: 0.8332 - val_loss: 0.3674 - val_accuracy: 0.8365\n",
            "Epoch 33/100\n",
            "252/252 [==============================] - 99s 392ms/step - loss: 0.3784 - accuracy: 0.8293 - val_loss: 0.3860 - val_accuracy: 0.8212\n",
            "Epoch 34/100\n",
            "252/252 [==============================] - 99s 391ms/step - loss: 0.3806 - accuracy: 0.8313 - val_loss: 0.3788 - val_accuracy: 0.8362\n",
            "Epoch 35/100\n",
            "252/252 [==============================] - 99s 391ms/step - loss: 0.3788 - accuracy: 0.8325 - val_loss: 0.3672 - val_accuracy: 0.8267\n",
            "Epoch 36/100\n",
            "252/252 [==============================] - 99s 394ms/step - loss: 0.3862 - accuracy: 0.8220 - val_loss: 0.3784 - val_accuracy: 0.8252\n",
            "Epoch 37/100\n",
            "252/252 [==============================] - 99s 394ms/step - loss: 0.3726 - accuracy: 0.8303 - val_loss: 0.3564 - val_accuracy: 0.8400\n",
            "Epoch 38/100\n",
            "252/252 [==============================] - 99s 394ms/step - loss: 0.3666 - accuracy: 0.8376 - val_loss: 0.3974 - val_accuracy: 0.8194\n",
            "Epoch 39/100\n",
            "252/252 [==============================] - 99s 394ms/step - loss: 0.3689 - accuracy: 0.8349 - val_loss: 0.3977 - val_accuracy: 0.8183\n",
            "Epoch 40/100\n",
            "252/252 [==============================] - 99s 393ms/step - loss: 0.3837 - accuracy: 0.8260 - val_loss: 0.3444 - val_accuracy: 0.8496\n",
            "Epoch 41/100\n",
            "252/252 [==============================] - 98s 388ms/step - loss: 0.3685 - accuracy: 0.8359 - val_loss: 0.3529 - val_accuracy: 0.8394\n",
            "Epoch 42/100\n",
            "252/252 [==============================] - 97s 387ms/step - loss: 0.3684 - accuracy: 0.8345 - val_loss: 0.3765 - val_accuracy: 0.8354\n",
            "Epoch 43/100\n",
            "252/252 [==============================] - 98s 389ms/step - loss: 0.3774 - accuracy: 0.8318 - val_loss: 0.3656 - val_accuracy: 0.8284\n",
            "Epoch 44/100\n",
            "252/252 [==============================] - 97s 385ms/step - loss: 0.3634 - accuracy: 0.8349 - val_loss: 0.3568 - val_accuracy: 0.8446\n",
            "Epoch 45/100\n",
            "252/252 [==============================] - 98s 387ms/step - loss: 0.3656 - accuracy: 0.8352 - val_loss: 0.3407 - val_accuracy: 0.8472\n",
            "Epoch 46/100\n",
            "252/252 [==============================] - 98s 388ms/step - loss: 0.3680 - accuracy: 0.8297 - val_loss: 0.3530 - val_accuracy: 0.8386\n",
            "Epoch 47/100\n",
            "252/252 [==============================] - 97s 385ms/step - loss: 0.3628 - accuracy: 0.8322 - val_loss: 0.3609 - val_accuracy: 0.8380\n",
            "Epoch 48/100\n",
            "252/252 [==============================] - 97s 386ms/step - loss: 0.3631 - accuracy: 0.8417 - val_loss: 0.3584 - val_accuracy: 0.8377\n",
            "Epoch 49/100\n",
            "252/252 [==============================] - 97s 386ms/step - loss: 0.3556 - accuracy: 0.8419 - val_loss: 0.3761 - val_accuracy: 0.8246\n",
            "Epoch 50/100\n",
            "252/252 [==============================] - 96s 381ms/step - loss: 0.3721 - accuracy: 0.8317 - val_loss: 0.3554 - val_accuracy: 0.8386\n",
            "Epoch 51/100\n",
            "252/252 [==============================] - 95s 379ms/step - loss: 0.3611 - accuracy: 0.8357 - val_loss: 0.3670 - val_accuracy: 0.8354\n",
            "Epoch 52/100\n",
            "252/252 [==============================] - 96s 381ms/step - loss: 0.3612 - accuracy: 0.8388 - val_loss: 0.3732 - val_accuracy: 0.8316\n",
            "Epoch 53/100\n",
            "252/252 [==============================] - 98s 387ms/step - loss: 0.3540 - accuracy: 0.8442 - val_loss: 0.3681 - val_accuracy: 0.8313\n",
            "Epoch 54/100\n",
            "252/252 [==============================] - 96s 382ms/step - loss: 0.3537 - accuracy: 0.8427 - val_loss: 0.3745 - val_accuracy: 0.8348\n",
            "Epoch 55/100\n",
            "252/252 [==============================] - 97s 383ms/step - loss: 0.3641 - accuracy: 0.8374 - val_loss: 0.3372 - val_accuracy: 0.8499\n",
            "Epoch 56/100\n",
            "252/252 [==============================] - 97s 384ms/step - loss: 0.3498 - accuracy: 0.8429 - val_loss: 0.3749 - val_accuracy: 0.8310\n",
            "Epoch 57/100\n",
            "252/252 [==============================] - 97s 385ms/step - loss: 0.3617 - accuracy: 0.8332 - val_loss: 0.3507 - val_accuracy: 0.8429\n",
            "Epoch 58/100\n",
            "252/252 [==============================] - 97s 385ms/step - loss: 0.3505 - accuracy: 0.8417 - val_loss: 0.3688 - val_accuracy: 0.8316\n",
            "Epoch 59/100\n",
            "252/252 [==============================] - 97s 384ms/step - loss: 0.3584 - accuracy: 0.8411 - val_loss: 0.3737 - val_accuracy: 0.8270\n",
            "Epoch 60/100\n",
            "252/252 [==============================] - 97s 383ms/step - loss: 0.3591 - accuracy: 0.8363 - val_loss: 0.3431 - val_accuracy: 0.8464\n",
            "Epoch 61/100\n",
            "252/252 [==============================] - 97s 383ms/step - loss: 0.3589 - accuracy: 0.8441 - val_loss: 0.3442 - val_accuracy: 0.8397\n",
            "Epoch 62/100\n",
            "252/252 [==============================] - 97s 387ms/step - loss: 0.3492 - accuracy: 0.8424 - val_loss: 0.3475 - val_accuracy: 0.8400\n",
            "Epoch 63/100\n",
            "252/252 [==============================] - 97s 384ms/step - loss: 0.3622 - accuracy: 0.8369 - val_loss: 0.3465 - val_accuracy: 0.8443\n",
            "Epoch 64/100\n",
            "252/252 [==============================] - 97s 384ms/step - loss: 0.3574 - accuracy: 0.8383 - val_loss: 0.3334 - val_accuracy: 0.8481\n",
            "Epoch 65/100\n",
            "252/252 [==============================] - 97s 386ms/step - loss: 0.3535 - accuracy: 0.8424 - val_loss: 0.3483 - val_accuracy: 0.8438\n",
            "Epoch 66/100\n",
            "252/252 [==============================] - 97s 384ms/step - loss: 0.3412 - accuracy: 0.8471 - val_loss: 0.3623 - val_accuracy: 0.8290\n",
            "Epoch 67/100\n",
            "252/252 [==============================] - 97s 383ms/step - loss: 0.3436 - accuracy: 0.8476 - val_loss: 0.3570 - val_accuracy: 0.8388\n",
            "Epoch 68/100\n",
            "252/252 [==============================] - 97s 386ms/step - loss: 0.3521 - accuracy: 0.8422 - val_loss: 0.3467 - val_accuracy: 0.8458\n",
            "Epoch 69/100\n",
            "252/252 [==============================] - 97s 385ms/step - loss: 0.3584 - accuracy: 0.8395 - val_loss: 0.3539 - val_accuracy: 0.8446\n",
            "Epoch 70/100\n",
            "252/252 [==============================] - 98s 387ms/step - loss: 0.3498 - accuracy: 0.8420 - val_loss: 0.3627 - val_accuracy: 0.8290\n",
            "Epoch 71/100\n",
            "252/252 [==============================] - 98s 390ms/step - loss: 0.3465 - accuracy: 0.8444 - val_loss: 0.3525 - val_accuracy: 0.8420\n",
            "Epoch 72/100\n",
            "252/252 [==============================] - 97s 384ms/step - loss: 0.3536 - accuracy: 0.8432 - val_loss: 0.3769 - val_accuracy: 0.8278\n",
            "Epoch 73/100\n",
            "252/252 [==============================] - 97s 385ms/step - loss: 0.3492 - accuracy: 0.8436 - val_loss: 0.3315 - val_accuracy: 0.8484\n",
            "Epoch 74/100\n",
            "252/252 [==============================] - 98s 389ms/step - loss: 0.3516 - accuracy: 0.8451 - val_loss: 0.3548 - val_accuracy: 0.8394\n",
            "Epoch 75/100\n",
            "252/252 [==============================] - 98s 388ms/step - loss: 0.3451 - accuracy: 0.8458 - val_loss: 0.3656 - val_accuracy: 0.8357\n",
            "Epoch 76/100\n",
            "252/252 [==============================] - 98s 390ms/step - loss: 0.3489 - accuracy: 0.8452 - val_loss: 0.3517 - val_accuracy: 0.8397\n",
            "Epoch 77/100\n",
            "252/252 [==============================] - 99s 392ms/step - loss: 0.3403 - accuracy: 0.8487 - val_loss: 0.3426 - val_accuracy: 0.8438\n",
            "Epoch 78/100\n",
            "252/252 [==============================] - 98s 389ms/step - loss: 0.3543 - accuracy: 0.8426 - val_loss: 0.3511 - val_accuracy: 0.8386\n",
            "Epoch 79/100\n",
            "252/252 [==============================] - 97s 386ms/step - loss: 0.3450 - accuracy: 0.8455 - val_loss: 0.3543 - val_accuracy: 0.8412\n",
            "Epoch 80/100\n",
            "252/252 [==============================] - 98s 387ms/step - loss: 0.3437 - accuracy: 0.8477 - val_loss: 0.3537 - val_accuracy: 0.8435\n",
            "Epoch 81/100\n",
            "252/252 [==============================] - 98s 389ms/step - loss: 0.3396 - accuracy: 0.8491 - val_loss: 0.3502 - val_accuracy: 0.8406\n",
            "Epoch 82/100\n",
            "252/252 [==============================] - 98s 388ms/step - loss: 0.3387 - accuracy: 0.8511 - val_loss: 0.3529 - val_accuracy: 0.8359\n",
            "Epoch 83/100\n",
            "252/252 [==============================] - 98s 388ms/step - loss: 0.3442 - accuracy: 0.8470 - val_loss: 0.3399 - val_accuracy: 0.8449\n",
            "Epoch 84/100\n",
            "252/252 [==============================] - 98s 390ms/step - loss: 0.3448 - accuracy: 0.8483 - val_loss: 0.3294 - val_accuracy: 0.8493\n",
            "Epoch 85/100\n",
            "252/252 [==============================] - 98s 390ms/step - loss: 0.3387 - accuracy: 0.8482 - val_loss: 0.3351 - val_accuracy: 0.8501\n",
            "Epoch 86/100\n",
            "252/252 [==============================] - 98s 389ms/step - loss: 0.3445 - accuracy: 0.8457 - val_loss: 0.3375 - val_accuracy: 0.8458\n",
            "Epoch 87/100\n",
            "252/252 [==============================] - 98s 390ms/step - loss: 0.3431 - accuracy: 0.8508 - val_loss: 0.3383 - val_accuracy: 0.8409\n",
            "Epoch 88/100\n",
            "252/252 [==============================] - 98s 389ms/step - loss: 0.3407 - accuracy: 0.8481 - val_loss: 0.3770 - val_accuracy: 0.8325\n",
            "Epoch 89/100\n",
            "252/252 [==============================] - 98s 389ms/step - loss: 0.3382 - accuracy: 0.8512 - val_loss: 0.3647 - val_accuracy: 0.8446\n",
            "Epoch 90/100\n",
            "252/252 [==============================] - 99s 392ms/step - loss: 0.3304 - accuracy: 0.8531 - val_loss: 0.3522 - val_accuracy: 0.8467\n",
            "Epoch 91/100\n",
            "252/252 [==============================] - 99s 391ms/step - loss: 0.3344 - accuracy: 0.8527 - val_loss: 0.3484 - val_accuracy: 0.8487\n",
            "Epoch 92/100\n",
            "252/252 [==============================] - 99s 393ms/step - loss: 0.3333 - accuracy: 0.8544 - val_loss: 0.3479 - val_accuracy: 0.8449\n",
            "Epoch 93/100\n",
            "252/252 [==============================] - 98s 391ms/step - loss: 0.3477 - accuracy: 0.8430 - val_loss: 0.3392 - val_accuracy: 0.8490\n",
            "Epoch 94/100\n",
            "252/252 [==============================] - 98s 390ms/step - loss: 0.3403 - accuracy: 0.8497 - val_loss: 0.3610 - val_accuracy: 0.8400\n",
            "Epoch 95/100\n",
            "252/252 [==============================] - 98s 390ms/step - loss: 0.3305 - accuracy: 0.8522 - val_loss: 0.3356 - val_accuracy: 0.8464\n",
            "Epoch 96/100\n",
            "252/252 [==============================] - 99s 391ms/step - loss: 0.3405 - accuracy: 0.8477 - val_loss: 0.3523 - val_accuracy: 0.8342\n",
            "Epoch 97/100\n",
            "252/252 [==============================] - 98s 388ms/step - loss: 0.3272 - accuracy: 0.8555 - val_loss: 0.3394 - val_accuracy: 0.8487\n",
            "Epoch 98/100\n",
            "252/252 [==============================] - 98s 388ms/step - loss: 0.3298 - accuracy: 0.8497 - val_loss: 0.3421 - val_accuracy: 0.8472\n",
            "Epoch 99/100\n",
            "252/252 [==============================] - 98s 390ms/step - loss: 0.3357 - accuracy: 0.8498 - val_loss: 0.3442 - val_accuracy: 0.8504\n",
            "Epoch 100/100\n",
            "252/252 [==============================] - 98s 390ms/step - loss: 0.3317 - accuracy: 0.8570 - val_loss: 0.3698 - val_accuracy: 0.8310\n"
          ],
          "name": "stdout"
        }
      ]
    },
    {
      "cell_type": "markdown",
      "metadata": {
        "id": "uPyPer96MDf5",
        "colab_type": "text"
      },
      "source": [
        "Build plots for the training and validation accuracy and"
      ]
    },
    {
      "cell_type": "code",
      "metadata": {
        "id": "Qspjd0SyIt5-",
        "colab_type": "code",
        "outputId": "aa4f55ec-9245-4057-e5ed-383ca224532c",
        "colab": {
          "base_uri": "https://localhost:8080/",
          "height": 491
        }
      },
      "source": [
        "acc = history.history['accuracy']\n",
        "val_acc = history.history['val_accuracy']\n",
        "\n",
        "loss = history.history['loss']\n",
        "val_loss = history.history['val_loss']\n",
        "\n",
        "epochs_range = range(len(acc))  # range for the number of epochs\n",
        "\n",
        "plt.figure(figsize=(16, 8))\n",
        "plt.subplot(1, 2, 1)\n",
        "plt.plot(epochs_range, acc, label='Training Accuracy')\n",
        "plt.plot(epochs_range, val_acc, label='Validation Accuracy')\n",
        "plt.legend(loc='lower right')\n",
        "plt.title('Training and Validation Accuracy')\n",
        "\n",
        "plt.subplot(1, 2, 2)\n",
        "plt.plot(epochs_range, loss, label='Training Loss')\n",
        "plt.plot(epochs_range, val_loss, label='Validation Loss')\n",
        "plt.legend(loc='upper right')\n",
        "plt.title('Training and Validation Loss')\n",
        "plt.savefig('./plots-v2.png')\n",
        "plt.show()"
      ],
      "execution_count": 13,
      "outputs": [
        {
          "output_type": "display_data",
          "data": {
            "image/png": "[encoded data removed]",
            "text/plain": [
              "<Figure size 1152x576 with 2 Axes>"
            ]
          },
          "metadata": {
            "tags": [],
            "needs_background": "light"
          }
        }
      ]
    },
    {
      "cell_type": "markdown",
      "metadata": {
        "id": "9AJ1sDfzMq0w",
        "colab_type": "text"
      },
      "source": [
        "Finally save the model."
      ]
    },
    {
      "cell_type": "code",
      "metadata": {
        "id": "WFUKayEoMt0G",
        "colab_type": "code",
        "colab": {}
      },
      "source": [
        "model.save('galaxy-convnet-v2.h5')"
      ],
      "execution_count": 0,
      "outputs": []
    }
  ]
}