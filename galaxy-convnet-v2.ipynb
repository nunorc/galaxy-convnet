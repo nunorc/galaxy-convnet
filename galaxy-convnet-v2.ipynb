{
  "nbformat": 4,
  "nbformat_minor": 0,
  "metadata": {
    "colab": {
      "name": "galaxy-convnet-v2.ipynb",
      "version": "0.3.2",
      "provenance": [],
      "collapsed_sections": [],
      "toc_visible": true
    },
    "kernelspec": {
      "name": "python3",
      "display_name": "Python 3"
    },
    "accelerator": "GPU"
  },
  "cells": [
    {
      "cell_type": "markdown",
      "metadata": {
        "id": "YDX7J_bAJj_s",
        "colab_type": "text"
      },
      "source": [
        "# Galaxies Morphology Classification Using Convolutional Neural Networks\n",
        "\n",
        "## Model v2"
      ]
    },
    {
      "cell_type": "markdown",
      "metadata": {
        "id": "fGL3NOaiI3K_",
        "colab_type": "text"
      },
      "source": [
        "Import required libraries."
      ]
    },
    {
      "cell_type": "code",
      "metadata": {
        "id": "YkCzOUUWYzRQ",
        "colab_type": "code",
        "colab": {}
      },
      "source": [
        "import pandas as pd\n",
        "import os, random, shutil\n",
        "\n",
        "import tensorflow as tf\n",
        "import keras_preprocessing\n",
        "from keras_preprocessing import image\n",
        "from keras_preprocessing.image import ImageDataGenerator\n",
        "import matplotlib.pyplot as plt\n",
        "import numpy as np"
      ],
      "execution_count": 0,
      "outputs": []
    },
    {
      "cell_type": "markdown",
      "metadata": {
        "id": "93ctGzKGClgr",
        "colab_type": "text"
      },
      "source": [
        "The data set used is built using the the notebook available in the GitHub repository: https://github.com/nunorc/galaxy-convnet\n",
        "\n",
        "Set the train and validation directory with the images."
      ]
    },
    {
      "cell_type": "code",
      "metadata": {
        "id": "HOLUHU_Tfutt",
        "colab_type": "code",
        "colab": {}
      },
      "source": [
        "train_dir = 'data/train'\n",
        "validation_dir = 'data/validation'"
      ],
      "execution_count": 0,
      "outputs": []
    },
    {
      "cell_type": "markdown",
      "metadata": {
        "id": "bSY0yoZ6Hxg4",
        "colab_type": "text"
      },
      "source": [
        "Get the total images in the training and validation dataset, this should be around 8044 images for training, and 3450 for validation."
      ]
    },
    {
      "cell_type": "code",
      "metadata": {
        "id": "LIpAiD5dFTlw",
        "colab_type": "code",
        "outputId": "853c8014-0456-47c0-a93c-ecfb9ac39cad",
        "colab": {
          "base_uri": "https://localhost:8080/",
          "height": 51
        }
      },
      "source": [
        "total_train = 0\n",
        "for c in ['elliptical', 'lenticular', 'spiral']:\n",
        "  total_train += len(os.listdir(os.path.join(train_dir, c)))\n",
        "print('Total train:', total_train)\n",
        "\n",
        "total_validation = 0\n",
        "for c in ['elliptical', 'lenticular', 'spiral']:\n",
        "  total_validation += len(os.listdir(os.path.join(validation_dir, c)))\n",
        "print('Total validation:', total_validation)"
      ],
      "execution_count": 3,
      "outputs": [
        {
          "output_type": "stream",
          "text": [
            "Total train: 8044\n",
            "Total validation: 3450\n"
          ],
          "name": "stdout"
        }
      ]
    },
    {
      "cell_type": "markdown",
      "metadata": {
        "id": "Z2iI2VaDDItL",
        "colab_type": "text"
      },
      "source": [
        "Set the batch size."
      ]
    },
    {
      "cell_type": "code",
      "metadata": {
        "id": "wQNtt1aiC4Fr",
        "colab_type": "code",
        "colab": {}
      },
      "source": [
        "BS = 32"
      ],
      "execution_count": 0,
      "outputs": []
    },
    {
      "cell_type": "markdown",
      "metadata": {
        "id": "z3m5y4gYH8ZP",
        "colab_type": "text"
      },
      "source": [
        "Create the data generator for both sets, but now with image augmentation, where random operations are made on images like random shifts or rotations on each batch, stil do the rescale and set the target size."
      ]
    },
    {
      "cell_type": "code",
      "metadata": {
        "id": "I8sLPXVxf-GR",
        "colab_type": "code",
        "outputId": "3f05d31e-e92a-4df6-cf97-5e3357a05d84",
        "colab": {
          "base_uri": "https://localhost:8080/",
          "height": 51
        }
      },
      "source": [
        "train_datagen = ImageDataGenerator(rescale=1.0/255,\n",
        "                                   rotation_range=25,\n",
        "                                   width_shift_range=.15,\n",
        "                                   height_shift_range=.15,\n",
        "                                   horizontal_flip=True,\n",
        "                                   zoom_range=0.2)\n",
        "validation_datagen  = ImageDataGenerator(rescale=1.0/255.)\n",
        "train_generator = train_datagen.flow_from_directory(train_dir,\n",
        "                                                    target_size=(150,150),\n",
        "                                                    batch_size=BS,\n",
        "                                                    shuffle=True,\n",
        "                                                    class_mode='categorical')\n",
        "validation_generator = train_datagen.flow_from_directory(validation_dir,\n",
        "                                                         target_size=(150,150),\n",
        "                                                         batch_size=BS,\n",
        "                                                         shuffle=False,\n",
        "                                                         class_mode='categorical')"
      ],
      "execution_count": 5,
      "outputs": [
        {
          "output_type": "stream",
          "text": [
            "Found 8044 images belonging to 3 classes.\n",
            "Found 3450 images belonging to 3 classes.\n"
          ],
          "name": "stdout"
        }
      ]
    },
    {
      "cell_type": "markdown",
      "metadata": {
        "id": "eMS7Wc6rIR4_",
        "colab_type": "text"
      },
      "source": [
        "Create the model, using a sequence of convolution and pooling layers, followed by a dropout layer, a fully connected layer, and the last softmax layer."
      ]
    },
    {
      "cell_type": "code",
      "metadata": {
        "id": "-mf_dykSGmnQ",
        "colab_type": "code",
        "colab": {}
      },
      "source": [
        "model = tf.keras.models.Sequential([\n",
        "    # first convolution layer, input is an 150x150 image x3 colors\n",
        "    tf.keras.layers.Conv2D(64, (3,3), activation='relu', input_shape=(150, 150, 3)),\n",
        "    tf.keras.layers.MaxPooling2D(2, 2),\n",
        "    # second convolution layer\n",
        "    tf.keras.layers.Conv2D(64, (3,3), activation='relu'),\n",
        "    tf.keras.layers.MaxPooling2D(2,2),\n",
        "    # third convolution layer\n",
        "    tf.keras.layers.Conv2D(128, (3,3), activation='relu'),\n",
        "    tf.keras.layers.MaxPooling2D(2,2),\n",
        "    # fourth convolution layer\n",
        "    tf.keras.layers.Conv2D(128, (3,3), activation='relu'),\n",
        "    tf.keras.layers.MaxPooling2D(2,2),\n",
        "    # flatten the image pixels\n",
        "    tf.keras.layers.Flatten(),\n",
        "    tf.keras.layers.Dropout(0.5),\n",
        "    # 512 neuron fully connected hidden layer\n",
        "    tf.keras.layers.Dense(512, activation='relu'),\n",
        "    tf.keras.layers.Dense(3, activation='softmax')\n",
        "])"
      ],
      "execution_count": 0,
      "outputs": []
    },
    {
      "cell_type": "markdown",
      "metadata": {
        "id": "830T4eaxIkgf",
        "colab_type": "text"
      },
      "source": [
        "Compile the model to use a categorical cross entropy loss function, and a adam optmizier."
      ]
    },
    {
      "cell_type": "code",
      "metadata": {
        "id": "xhKgbehBGpHs",
        "colab_type": "code",
        "colab": {}
      },
      "source": [
        "model.compile(loss='categorical_crossentropy',\n",
        "              optimizer='adam',\n",
        "              metrics=['accuracy'])"
      ],
      "execution_count": 0,
      "outputs": []
    },
    {
      "cell_type": "markdown",
      "metadata": {
        "id": "pPV50ATbIn6n",
        "colab_type": "text"
      },
      "source": [
        "Train the model for 100 epochs."
      ]
    },
    {
      "cell_type": "code",
      "metadata": {
        "id": "zr2SAE6cGrbU",
        "colab_type": "code",
        "outputId": "0126f276-ec89-4869-acd6-54ad3913c4a4",
        "colab": {
          "base_uri": "https://localhost:8080/",
          "height": 5188
        }
      },
      "source": [
        "history = model.fit_generator(train_generator,\n",
        "                              steps_per_epoch=total_train/BS,\n",
        "                              epochs=100,\n",
        "                              validation_data=validation_generator,\n",
        "                              validation_steps=total_validation/BS,\n",
        "                              verbose=1)"
      ],
      "execution_count": 8,
      "outputs": [
        {
          "output_type": "stream",
          "text": [
            "WARNING:tensorflow:From /usr/local/lib/python3.6/dist-packages/tensorflow/python/ops/math_ops.py:3066: to_int32 (from tensorflow.python.ops.math_ops) is deprecated and will be removed in a future version.\n",
            "Instructions for updating:\n",
            "Use tf.cast instead.\n",
            "Epoch 1/100\n",
            "108/108 [==============================] - 26s 236ms/step - loss: 0.6395 - acc: 0.6684\n",
            "252/252 [==============================] - 87s 345ms/step - loss: 0.7774 - acc: 0.5812 - val_loss: 0.6395 - val_acc: 0.6684\n",
            "Epoch 2/100\n",
            "108/108 [==============================] - 25s 229ms/step - loss: 0.6258 - acc: 0.6583\n",
            "252/252 [==============================] - 82s 325ms/step - loss: 0.6216 - acc: 0.6663 - val_loss: 0.6258 - val_acc: 0.6583\n",
            "Epoch 3/100\n",
            "108/108 [==============================] - 27s 247ms/step - loss: 0.5245 - acc: 0.7188\n",
            "252/252 [==============================] - 84s 334ms/step - loss: 0.5734 - acc: 0.6984 - val_loss: 0.5245 - val_acc: 0.7188\n",
            "Epoch 4/100\n",
            "108/108 [==============================] - 25s 234ms/step - loss: 0.5071 - acc: 0.7522\n",
            "252/252 [==============================] - 82s 324ms/step - loss: 0.5385 - acc: 0.7184 - val_loss: 0.5071 - val_acc: 0.7522\n",
            "Epoch 5/100\n",
            "108/108 [==============================] - 26s 236ms/step - loss: 0.4794 - acc: 0.7606\n",
            "252/252 [==============================] - 82s 326ms/step - loss: 0.5223 - acc: 0.7335 - val_loss: 0.4794 - val_acc: 0.7606\n",
            "Epoch 6/100\n",
            "108/108 [==============================] - 26s 238ms/step - loss: 0.4744 - acc: 0.7632\n",
            "252/252 [==============================] - 82s 324ms/step - loss: 0.5029 - acc: 0.7505 - val_loss: 0.4744 - val_acc: 0.7632\n",
            "Epoch 7/100\n",
            "108/108 [==============================] - 26s 240ms/step - loss: 0.4271 - acc: 0.7930\n",
            "252/252 [==============================] - 83s 331ms/step - loss: 0.4793 - acc: 0.7670 - val_loss: 0.4271 - val_acc: 0.7930\n",
            "Epoch 8/100\n",
            "108/108 [==============================] - 26s 240ms/step - loss: 0.4060 - acc: 0.8099\n",
            "252/252 [==============================] - 81s 322ms/step - loss: 0.4628 - acc: 0.7776 - val_loss: 0.4060 - val_acc: 0.8099\n",
            "Epoch 9/100\n",
            "108/108 [==============================] - 26s 242ms/step - loss: 0.4188 - acc: 0.7957\n",
            "252/252 [==============================] - 83s 329ms/step - loss: 0.4680 - acc: 0.7730 - val_loss: 0.4188 - val_acc: 0.7957\n",
            "Epoch 10/100\n",
            "108/108 [==============================] - 26s 241ms/step - loss: 0.4349 - acc: 0.8043\n",
            "252/252 [==============================] - 82s 325ms/step - loss: 0.4451 - acc: 0.7924 - val_loss: 0.4349 - val_acc: 0.8043\n",
            "Epoch 11/100\n",
            "108/108 [==============================] - 26s 242ms/step - loss: 0.4331 - acc: 0.8055\n",
            "252/252 [==============================] - 84s 332ms/step - loss: 0.4372 - acc: 0.7938 - val_loss: 0.4331 - val_acc: 0.8055\n",
            "Epoch 12/100\n",
            "108/108 [==============================] - 26s 241ms/step - loss: 0.4002 - acc: 0.8223\n",
            "252/252 [==============================] - 81s 323ms/step - loss: 0.4335 - acc: 0.7997 - val_loss: 0.4002 - val_acc: 0.8223\n",
            "Epoch 13/100\n",
            "108/108 [==============================] - 26s 242ms/step - loss: 0.3915 - acc: 0.8177\n",
            "252/252 [==============================] - 82s 325ms/step - loss: 0.4294 - acc: 0.7999 - val_loss: 0.3915 - val_acc: 0.8177\n",
            "Epoch 14/100\n",
            "108/108 [==============================] - 26s 241ms/step - loss: 0.3876 - acc: 0.8217\n",
            "252/252 [==============================] - 82s 325ms/step - loss: 0.4227 - acc: 0.8077 - val_loss: 0.3876 - val_acc: 0.8217\n",
            "Epoch 15/100\n",
            "108/108 [==============================] - 26s 241ms/step - loss: 0.3857 - acc: 0.8255\n",
            "252/252 [==============================] - 84s 331ms/step - loss: 0.4077 - acc: 0.8136 - val_loss: 0.3857 - val_acc: 0.8255\n",
            "Epoch 16/100\n",
            "108/108 [==============================] - 26s 238ms/step - loss: 0.3776 - acc: 0.8278\n",
            "252/252 [==============================] - 82s 326ms/step - loss: 0.4226 - acc: 0.8045 - val_loss: 0.3776 - val_acc: 0.8278\n",
            "Epoch 17/100\n",
            "108/108 [==============================] - 26s 236ms/step - loss: 0.4018 - acc: 0.8104\n",
            "252/252 [==============================] - 82s 325ms/step - loss: 0.4104 - acc: 0.8095 - val_loss: 0.4018 - val_acc: 0.8104\n",
            "Epoch 18/100\n",
            "108/108 [==============================] - 27s 250ms/step - loss: 0.3892 - acc: 0.8232\n",
            "252/252 [==============================] - 83s 331ms/step - loss: 0.4138 - acc: 0.8114 - val_loss: 0.3892 - val_acc: 0.8232\n",
            "Epoch 19/100\n",
            "108/108 [==============================] - 24s 226ms/step - loss: 0.3933 - acc: 0.8278\n",
            "252/252 [==============================] - 81s 323ms/step - loss: 0.4196 - acc: 0.8073 - val_loss: 0.3933 - val_acc: 0.8278\n",
            "Epoch 20/100\n",
            "108/108 [==============================] - 24s 226ms/step - loss: 0.4263 - acc: 0.7983\n",
            "252/252 [==============================] - 82s 325ms/step - loss: 0.4070 - acc: 0.8143 - val_loss: 0.4263 - val_acc: 0.7983\n",
            "Epoch 21/100\n",
            "108/108 [==============================] - 24s 226ms/step - loss: 0.3896 - acc: 0.8191\n",
            "252/252 [==============================] - 81s 321ms/step - loss: 0.4085 - acc: 0.8125 - val_loss: 0.3896 - val_acc: 0.8191\n",
            "Epoch 22/100\n",
            "108/108 [==============================] - 24s 224ms/step - loss: 0.3592 - acc: 0.8441\n",
            "252/252 [==============================] - 81s 322ms/step - loss: 0.3949 - acc: 0.8195 - val_loss: 0.3592 - val_acc: 0.8441\n",
            "Epoch 23/100\n",
            "108/108 [==============================] - 25s 231ms/step - loss: 0.4125 - acc: 0.7936\n",
            "252/252 [==============================] - 82s 324ms/step - loss: 0.4006 - acc: 0.8176 - val_loss: 0.4125 - val_acc: 0.7936\n",
            "Epoch 24/100\n",
            "108/108 [==============================] - 24s 225ms/step - loss: 0.3610 - acc: 0.8452\n",
            "252/252 [==============================] - 81s 323ms/step - loss: 0.3925 - acc: 0.8206 - val_loss: 0.3610 - val_acc: 0.8452\n",
            "Epoch 25/100\n",
            "108/108 [==============================] - 24s 225ms/step - loss: 0.3728 - acc: 0.8420\n",
            "252/252 [==============================] - 81s 321ms/step - loss: 0.3930 - acc: 0.8204 - val_loss: 0.3728 - val_acc: 0.8420\n",
            "Epoch 26/100\n",
            "108/108 [==============================] - 24s 225ms/step - loss: 0.3512 - acc: 0.8403\n",
            "252/252 [==============================] - 83s 328ms/step - loss: 0.3922 - acc: 0.8204 - val_loss: 0.3512 - val_acc: 0.8403\n",
            "Epoch 27/100\n",
            "108/108 [==============================] - 25s 235ms/step - loss: 0.3677 - acc: 0.8339\n",
            "252/252 [==============================] - 82s 325ms/step - loss: 0.3997 - acc: 0.8165 - val_loss: 0.3677 - val_acc: 0.8339\n",
            "Epoch 28/100\n",
            "108/108 [==============================] - 25s 228ms/step - loss: 0.3552 - acc: 0.8446\n",
            "252/252 [==============================] - 82s 325ms/step - loss: 0.3953 - acc: 0.8222 - val_loss: 0.3552 - val_acc: 0.8446\n",
            "Epoch 29/100\n",
            "108/108 [==============================] - 25s 228ms/step - loss: 0.3615 - acc: 0.8348\n",
            "252/252 [==============================] - 82s 326ms/step - loss: 0.3847 - acc: 0.8268 - val_loss: 0.3615 - val_acc: 0.8348\n",
            "Epoch 30/100\n",
            "108/108 [==============================] - 24s 225ms/step - loss: 0.3847 - acc: 0.8232\n",
            "252/252 [==============================] - 83s 330ms/step - loss: 0.3866 - acc: 0.8222 - val_loss: 0.3847 - val_acc: 0.8232\n",
            "Epoch 31/100\n",
            "108/108 [==============================] - 25s 229ms/step - loss: 0.3868 - acc: 0.8197\n",
            "252/252 [==============================] - 82s 324ms/step - loss: 0.3855 - acc: 0.8221 - val_loss: 0.3868 - val_acc: 0.8197\n",
            "Epoch 32/100\n",
            "108/108 [==============================] - 25s 228ms/step - loss: 0.3890 - acc: 0.8235\n",
            "252/252 [==============================] - 82s 325ms/step - loss: 0.4006 - acc: 0.8168 - val_loss: 0.3890 - val_acc: 0.8235\n",
            "Epoch 33/100\n",
            "108/108 [==============================] - 26s 237ms/step - loss: 0.3687 - acc: 0.8359\n",
            "252/252 [==============================] - 83s 329ms/step - loss: 0.3880 - acc: 0.8247 - val_loss: 0.3687 - val_acc: 0.8359\n",
            "Epoch 34/100\n",
            "108/108 [==============================] - 24s 226ms/step - loss: 0.3697 - acc: 0.8267\n",
            "252/252 [==============================] - 82s 326ms/step - loss: 0.3797 - acc: 0.8313 - val_loss: 0.3697 - val_acc: 0.8267\n",
            "Epoch 35/100\n",
            "108/108 [==============================] - 25s 227ms/step - loss: 0.3847 - acc: 0.8142\n",
            "252/252 [==============================] - 82s 326ms/step - loss: 0.3809 - acc: 0.8241 - val_loss: 0.3847 - val_acc: 0.8142\n",
            "Epoch 36/100\n",
            "108/108 [==============================] - 25s 227ms/step - loss: 0.3706 - acc: 0.8325\n",
            "252/252 [==============================] - 82s 324ms/step - loss: 0.3871 - acc: 0.8222 - val_loss: 0.3706 - val_acc: 0.8325\n",
            "Epoch 37/100\n",
            "108/108 [==============================] - 26s 243ms/step - loss: 0.3449 - acc: 0.8432\n",
            "252/252 [==============================] - 83s 331ms/step - loss: 0.3725 - acc: 0.8322 - val_loss: 0.3449 - val_acc: 0.8432\n",
            "Epoch 38/100\n",
            "108/108 [==============================] - 25s 233ms/step - loss: 0.3519 - acc: 0.8383\n",
            "252/252 [==============================] - 82s 327ms/step - loss: 0.3798 - acc: 0.8283 - val_loss: 0.3519 - val_acc: 0.8383\n",
            "Epoch 39/100\n",
            "108/108 [==============================] - 25s 230ms/step - loss: 0.3526 - acc: 0.8391\n",
            "252/252 [==============================] - 82s 325ms/step - loss: 0.3760 - acc: 0.8349 - val_loss: 0.3526 - val_acc: 0.8391\n",
            "Epoch 40/100\n",
            "108/108 [==============================] - 24s 226ms/step - loss: 0.3530 - acc: 0.8443\n",
            "252/252 [==============================] - 81s 323ms/step - loss: 0.3775 - acc: 0.8281 - val_loss: 0.3530 - val_acc: 0.8443\n",
            "Epoch 41/100\n",
            "108/108 [==============================] - 25s 229ms/step - loss: 0.3480 - acc: 0.8443\n",
            "252/252 [==============================] - 83s 330ms/step - loss: 0.3849 - acc: 0.8296 - val_loss: 0.3480 - val_acc: 0.8443\n",
            "Epoch 42/100\n",
            "108/108 [==============================] - 24s 226ms/step - loss: 0.3599 - acc: 0.8386\n",
            "252/252 [==============================] - 82s 326ms/step - loss: 0.3715 - acc: 0.8338 - val_loss: 0.3599 - val_acc: 0.8386\n",
            "Epoch 43/100\n",
            "108/108 [==============================] - 24s 226ms/step - loss: 0.3739 - acc: 0.8304\n",
            "252/252 [==============================] - 81s 322ms/step - loss: 0.3699 - acc: 0.8369 - val_loss: 0.3739 - val_acc: 0.8304\n",
            "Epoch 44/100\n",
            "108/108 [==============================] - 24s 226ms/step - loss: 0.3671 - acc: 0.8319\n",
            "252/252 [==============================] - 81s 322ms/step - loss: 0.3710 - acc: 0.8328 - val_loss: 0.3671 - val_acc: 0.8319\n",
            "Epoch 45/100\n",
            "108/108 [==============================] - 24s 226ms/step - loss: 0.3520 - acc: 0.8409\n",
            "252/252 [==============================] - 83s 329ms/step - loss: 0.3793 - acc: 0.8257 - val_loss: 0.3520 - val_acc: 0.8409\n",
            "Epoch 46/100\n",
            "108/108 [==============================] - 24s 226ms/step - loss: 0.3550 - acc: 0.8322\n",
            "252/252 [==============================] - 82s 326ms/step - loss: 0.3687 - acc: 0.8364 - val_loss: 0.3550 - val_acc: 0.8322\n",
            "Epoch 47/100\n",
            "108/108 [==============================] - 24s 226ms/step - loss: 0.3615 - acc: 0.8397\n",
            "252/252 [==============================] - 81s 322ms/step - loss: 0.3672 - acc: 0.8333 - val_loss: 0.3615 - val_acc: 0.8397\n",
            "Epoch 48/100\n",
            "108/108 [==============================] - 25s 228ms/step - loss: 0.3724 - acc: 0.8235\n",
            "252/252 [==============================] - 81s 323ms/step - loss: 0.3669 - acc: 0.8324 - val_loss: 0.3724 - val_acc: 0.8235\n",
            "Epoch 49/100\n",
            "108/108 [==============================] - 24s 226ms/step - loss: 0.3339 - acc: 0.8533\n",
            "252/252 [==============================] - 82s 325ms/step - loss: 0.3746 - acc: 0.8334 - val_loss: 0.3339 - val_acc: 0.8533\n",
            "Epoch 50/100\n",
            "108/108 [==============================] - 24s 226ms/step - loss: 0.3466 - acc: 0.8475\n",
            "252/252 [==============================] - 81s 323ms/step - loss: 0.3675 - acc: 0.8337 - val_loss: 0.3466 - val_acc: 0.8475\n",
            "Epoch 51/100\n",
            "108/108 [==============================] - 25s 227ms/step - loss: 0.3651 - acc: 0.8330\n",
            "252/252 [==============================] - 82s 324ms/step - loss: 0.3762 - acc: 0.8255 - val_loss: 0.3651 - val_acc: 0.8330\n",
            "Epoch 52/100\n",
            "108/108 [==============================] - 26s 244ms/step - loss: 0.3524 - acc: 0.8420\n",
            "252/252 [==============================] - 83s 329ms/step - loss: 0.3720 - acc: 0.8301 - val_loss: 0.3524 - val_acc: 0.8420\n",
            "Epoch 53/100\n",
            "108/108 [==============================] - 26s 242ms/step - loss: 0.3429 - acc: 0.8478\n",
            "252/252 [==============================] - 82s 327ms/step - loss: 0.3718 - acc: 0.8313 - val_loss: 0.3429 - val_acc: 0.8478\n",
            "Epoch 54/100\n",
            "108/108 [==============================] - 25s 236ms/step - loss: 0.3644 - acc: 0.8336\n",
            "252/252 [==============================] - 81s 323ms/step - loss: 0.3665 - acc: 0.8338 - val_loss: 0.3644 - val_acc: 0.8336\n",
            "Epoch 55/100\n",
            "108/108 [==============================] - 26s 237ms/step - loss: 0.3639 - acc: 0.8368\n",
            "252/252 [==============================] - 82s 325ms/step - loss: 0.3774 - acc: 0.8245 - val_loss: 0.3639 - val_acc: 0.8368\n",
            "Epoch 56/100\n",
            "108/108 [==============================] - 27s 252ms/step - loss: 0.3441 - acc: 0.8429\n",
            "252/252 [==============================] - 83s 331ms/step - loss: 0.3588 - acc: 0.8366 - val_loss: 0.3441 - val_acc: 0.8429\n",
            "Epoch 57/100\n",
            "108/108 [==============================] - 26s 240ms/step - loss: 0.3479 - acc: 0.8493\n",
            "252/252 [==============================] - 82s 326ms/step - loss: 0.3641 - acc: 0.8414 - val_loss: 0.3479 - val_acc: 0.8493\n",
            "Epoch 58/100\n",
            "108/108 [==============================] - 26s 241ms/step - loss: 0.3598 - acc: 0.8412\n",
            "252/252 [==============================] - 81s 323ms/step - loss: 0.3560 - acc: 0.8363 - val_loss: 0.3598 - val_acc: 0.8412\n",
            "Epoch 59/100\n",
            "108/108 [==============================] - 26s 242ms/step - loss: 0.3660 - acc: 0.8365\n",
            "252/252 [==============================] - 82s 325ms/step - loss: 0.3651 - acc: 0.8342 - val_loss: 0.3660 - val_acc: 0.8365\n",
            "Epoch 60/100\n",
            "108/108 [==============================] - 26s 241ms/step - loss: 0.3314 - acc: 0.8528\n",
            "252/252 [==============================] - 83s 331ms/step - loss: 0.3644 - acc: 0.8355 - val_loss: 0.3314 - val_acc: 0.8528\n",
            "Epoch 61/100\n",
            "108/108 [==============================] - 26s 240ms/step - loss: 0.3593 - acc: 0.8357\n",
            "252/252 [==============================] - 82s 327ms/step - loss: 0.3598 - acc: 0.8365 - val_loss: 0.3593 - val_acc: 0.8357\n",
            "Epoch 62/100\n",
            "108/108 [==============================] - 26s 240ms/step - loss: 0.3532 - acc: 0.8464\n",
            "252/252 [==============================] - 82s 323ms/step - loss: 0.3592 - acc: 0.8376 - val_loss: 0.3532 - val_acc: 0.8464\n",
            "Epoch 63/100\n",
            "108/108 [==============================] - 26s 240ms/step - loss: 0.3444 - acc: 0.8432\n",
            "252/252 [==============================] - 82s 324ms/step - loss: 0.3551 - acc: 0.8416 - val_loss: 0.3444 - val_acc: 0.8432\n",
            "Epoch 64/100\n",
            "108/108 [==============================] - 27s 248ms/step - loss: 0.3446 - acc: 0.8467\n",
            "252/252 [==============================] - 84s 333ms/step - loss: 0.3584 - acc: 0.8394 - val_loss: 0.3446 - val_acc: 0.8467\n",
            "Epoch 65/100\n",
            "108/108 [==============================] - 26s 239ms/step - loss: 0.3302 - acc: 0.8501\n",
            "252/252 [==============================] - 81s 323ms/step - loss: 0.3673 - acc: 0.8335 - val_loss: 0.3302 - val_acc: 0.8501\n",
            "Epoch 66/100\n",
            "108/108 [==============================] - 26s 237ms/step - loss: 0.3413 - acc: 0.8478\n",
            "252/252 [==============================] - 81s 323ms/step - loss: 0.3571 - acc: 0.8384 - val_loss: 0.3413 - val_acc: 0.8478\n",
            "Epoch 67/100\n",
            "108/108 [==============================] - 26s 238ms/step - loss: 0.3376 - acc: 0.8455\n",
            "252/252 [==============================] - 82s 324ms/step - loss: 0.3570 - acc: 0.8399 - val_loss: 0.3376 - val_acc: 0.8455\n",
            "Epoch 68/100\n",
            "108/108 [==============================] - 25s 232ms/step - loss: 0.3355 - acc: 0.8443\n",
            "252/252 [==============================] - 83s 329ms/step - loss: 0.3574 - acc: 0.8349 - val_loss: 0.3355 - val_acc: 0.8443\n",
            "Epoch 69/100\n",
            "108/108 [==============================] - 25s 230ms/step - loss: 0.3477 - acc: 0.8380\n",
            "252/252 [==============================] - 81s 322ms/step - loss: 0.3565 - acc: 0.8398 - val_loss: 0.3477 - val_acc: 0.8380\n",
            "Epoch 70/100\n",
            "108/108 [==============================] - 25s 229ms/step - loss: 0.3748 - acc: 0.8238\n",
            "252/252 [==============================] - 81s 323ms/step - loss: 0.3551 - acc: 0.8429 - val_loss: 0.3748 - val_acc: 0.8238\n",
            "Epoch 71/100\n",
            "108/108 [==============================] - 26s 243ms/step - loss: 0.3337 - acc: 0.8481\n",
            "252/252 [==============================] - 83s 330ms/step - loss: 0.3535 - acc: 0.8458 - val_loss: 0.3337 - val_acc: 0.8481\n",
            "Epoch 72/100\n",
            "108/108 [==============================] - 24s 225ms/step - loss: 0.3400 - acc: 0.8484\n",
            "252/252 [==============================] - 82s 326ms/step - loss: 0.3487 - acc: 0.8458 - val_loss: 0.3400 - val_acc: 0.8484\n",
            "Epoch 73/100\n",
            "108/108 [==============================] - 24s 226ms/step - loss: 0.3833 - acc: 0.8255\n",
            "252/252 [==============================] - 81s 323ms/step - loss: 0.3515 - acc: 0.8393 - val_loss: 0.3833 - val_acc: 0.8255\n",
            "Epoch 74/100\n",
            "108/108 [==============================] - 24s 226ms/step - loss: 0.3440 - acc: 0.8452\n",
            "252/252 [==============================] - 81s 322ms/step - loss: 0.3530 - acc: 0.8389 - val_loss: 0.3440 - val_acc: 0.8452\n",
            "Epoch 75/100\n",
            "108/108 [==============================] - 24s 226ms/step - loss: 0.3415 - acc: 0.8464\n",
            "252/252 [==============================] - 82s 326ms/step - loss: 0.3591 - acc: 0.8393 - val_loss: 0.3415 - val_acc: 0.8464\n",
            "Epoch 76/100\n",
            "108/108 [==============================] - 24s 226ms/step - loss: 0.3530 - acc: 0.8333\n",
            "252/252 [==============================] - 82s 325ms/step - loss: 0.3431 - acc: 0.8472 - val_loss: 0.3530 - val_acc: 0.8333\n",
            "Epoch 77/100\n",
            "108/108 [==============================] - 24s 226ms/step - loss: 0.3551 - acc: 0.8406\n",
            "252/252 [==============================] - 81s 322ms/step - loss: 0.3482 - acc: 0.8409 - val_loss: 0.3551 - val_acc: 0.8406\n",
            "Epoch 78/100\n",
            "108/108 [==============================] - 24s 226ms/step - loss: 0.3410 - acc: 0.8420\n",
            "252/252 [==============================] - 81s 322ms/step - loss: 0.3417 - acc: 0.8480 - val_loss: 0.3410 - val_acc: 0.8420\n",
            "Epoch 79/100\n",
            "108/108 [==============================] - 25s 234ms/step - loss: 0.3413 - acc: 0.8470\n",
            "252/252 [==============================] - 83s 330ms/step - loss: 0.3521 - acc: 0.8455 - val_loss: 0.3413 - val_acc: 0.8470\n",
            "Epoch 80/100\n",
            "108/108 [==============================] - 24s 226ms/step - loss: 0.3283 - acc: 0.8519\n",
            "252/252 [==============================] - 81s 322ms/step - loss: 0.3549 - acc: 0.8409 - val_loss: 0.3283 - val_acc: 0.8519\n",
            "Epoch 81/100\n",
            "108/108 [==============================] - 24s 226ms/step - loss: 0.3593 - acc: 0.8374\n",
            "252/252 [==============================] - 81s 322ms/step - loss: 0.3411 - acc: 0.8497 - val_loss: 0.3593 - val_acc: 0.8374\n",
            "Epoch 82/100\n",
            "108/108 [==============================] - 24s 226ms/step - loss: 0.3243 - acc: 0.8646\n",
            "252/252 [==============================] - 81s 323ms/step - loss: 0.3333 - acc: 0.8524 - val_loss: 0.3243 - val_acc: 0.8646\n",
            "Epoch 83/100\n",
            "108/108 [==============================] - 24s 226ms/step - loss: 0.3341 - acc: 0.8525\n",
            "252/252 [==============================] - 84s 332ms/step - loss: 0.3447 - acc: 0.8450 - val_loss: 0.3341 - val_acc: 0.8525\n",
            "Epoch 84/100\n",
            "108/108 [==============================] - 24s 227ms/step - loss: 0.3323 - acc: 0.8501\n",
            "252/252 [==============================] - 81s 323ms/step - loss: 0.3398 - acc: 0.8480 - val_loss: 0.3323 - val_acc: 0.8501\n",
            "Epoch 85/100\n",
            "108/108 [==============================] - 24s 226ms/step - loss: 0.3297 - acc: 0.8510\n",
            "252/252 [==============================] - 81s 323ms/step - loss: 0.3427 - acc: 0.8446 - val_loss: 0.3297 - val_acc: 0.8510\n",
            "Epoch 86/100\n",
            "108/108 [==============================] - 25s 231ms/step - loss: 0.3361 - acc: 0.8568\n",
            "252/252 [==============================] - 82s 325ms/step - loss: 0.3475 - acc: 0.8422 - val_loss: 0.3361 - val_acc: 0.8568\n",
            "Epoch 87/100\n",
            "108/108 [==============================] - 25s 227ms/step - loss: 0.3501 - acc: 0.8435\n",
            "252/252 [==============================] - 83s 329ms/step - loss: 0.3436 - acc: 0.8457 - val_loss: 0.3501 - val_acc: 0.8435\n",
            "Epoch 88/100\n",
            "108/108 [==============================] - 24s 226ms/step - loss: 0.3292 - acc: 0.8568\n",
            "252/252 [==============================] - 81s 323ms/step - loss: 0.3480 - acc: 0.8441 - val_loss: 0.3292 - val_acc: 0.8568\n",
            "Epoch 89/100\n",
            "108/108 [==============================] - 24s 226ms/step - loss: 0.3356 - acc: 0.8533\n",
            "252/252 [==============================] - 81s 323ms/step - loss: 0.3407 - acc: 0.8461 - val_loss: 0.3356 - val_acc: 0.8533\n",
            "Epoch 90/100\n",
            "108/108 [==============================] - 26s 245ms/step - loss: 0.3596 - acc: 0.8394\n",
            "252/252 [==============================] - 83s 331ms/step - loss: 0.3397 - acc: 0.8498 - val_loss: 0.3596 - val_acc: 0.8394\n",
            "Epoch 91/100\n",
            "108/108 [==============================] - 24s 226ms/step - loss: 0.3233 - acc: 0.8510\n",
            "252/252 [==============================] - 82s 325ms/step - loss: 0.3468 - acc: 0.8449 - val_loss: 0.3233 - val_acc: 0.8510\n",
            "Epoch 92/100\n",
            "108/108 [==============================] - 24s 226ms/step - loss: 0.3269 - acc: 0.8577\n",
            "252/252 [==============================] - 81s 323ms/step - loss: 0.3282 - acc: 0.8543 - val_loss: 0.3269 - val_acc: 0.8577\n",
            "Epoch 93/100\n",
            "108/108 [==============================] - 24s 227ms/step - loss: 0.3333 - acc: 0.8530\n",
            "252/252 [==============================] - 81s 323ms/step - loss: 0.3454 - acc: 0.8458 - val_loss: 0.3333 - val_acc: 0.8530\n",
            "Epoch 94/100\n",
            "108/108 [==============================] - 25s 234ms/step - loss: 0.3310 - acc: 0.8545\n",
            "252/252 [==============================] - 84s 333ms/step - loss: 0.3424 - acc: 0.8506 - val_loss: 0.3310 - val_acc: 0.8545\n",
            "Epoch 95/100\n",
            "108/108 [==============================] - 24s 227ms/step - loss: 0.3222 - acc: 0.8539\n",
            "252/252 [==============================] - 82s 324ms/step - loss: 0.3394 - acc: 0.8498 - val_loss: 0.3222 - val_acc: 0.8539\n",
            "Epoch 96/100\n",
            "108/108 [==============================] - 25s 228ms/step - loss: 0.3172 - acc: 0.8571\n",
            "252/252 [==============================] - 82s 324ms/step - loss: 0.3265 - acc: 0.8583 - val_loss: 0.3172 - val_acc: 0.8571\n",
            "Epoch 97/100\n",
            "108/108 [==============================] - 25s 228ms/step - loss: 0.3423 - acc: 0.8548\n",
            "252/252 [==============================] - 82s 325ms/step - loss: 0.3318 - acc: 0.8513 - val_loss: 0.3423 - val_acc: 0.8548\n",
            "Epoch 98/100\n",
            "108/108 [==============================] - 25s 228ms/step - loss: 0.3739 - acc: 0.8272\n",
            "252/252 [==============================] - 84s 334ms/step - loss: 0.3325 - acc: 0.8504 - val_loss: 0.3739 - val_acc: 0.8272\n",
            "Epoch 99/100\n",
            "108/108 [==============================] - 25s 228ms/step - loss: 0.3066 - acc: 0.8684\n",
            "252/252 [==============================] - 82s 325ms/step - loss: 0.3341 - acc: 0.8533 - val_loss: 0.3066 - val_acc: 0.8684\n",
            "Epoch 100/100\n",
            "108/108 [==============================] - 25s 228ms/step - loss: 0.3209 - acc: 0.8542\n",
            "252/252 [==============================] - 82s 324ms/step - loss: 0.3337 - acc: 0.8534 - val_loss: 0.3209 - val_acc: 0.8542\n"
          ],
          "name": "stdout"
        }
      ]
    },
    {
      "cell_type": "markdown",
      "metadata": {
        "id": "uPyPer96MDf5",
        "colab_type": "text"
      },
      "source": [
        "Build plots for the training and validation accuracy and"
      ]
    },
    {
      "cell_type": "code",
      "metadata": {
        "id": "Qspjd0SyIt5-",
        "colab_type": "code",
        "outputId": "647dc8ab-c626-4c37-eed9-b48c7a1ffc80",
        "colab": {
          "base_uri": "https://localhost:8080/",
          "height": 519
        }
      },
      "source": [
        "acc = history.history['acc']\n",
        "val_acc = history.history['val_acc']\n",
        "\n",
        "loss = history.history['loss']\n",
        "val_loss = history.history['val_loss']\n",
        "\n",
        "epochs_range = range(len(acc))  # range for the number of epochs\n",
        "\n",
        "plt.figure(figsize=(16, 8))\n",
        "plt.subplot(1, 2, 1)\n",
        "plt.plot(epochs_range, acc, label='Training Accuracy')\n",
        "plt.plot(epochs_range, val_acc, label='Validation Accuracy')\n",
        "plt.legend(loc='lower right')\n",
        "plt.title('Training and Validation Accuracy')\n",
        "\n",
        "plt.subplot(1, 2, 2)\n",
        "plt.plot(epochs_range, loss, label='Training Loss')\n",
        "plt.plot(epochs_range, val_loss, label='Validation Loss')\n",
        "plt.legend(loc='upper right')\n",
        "plt.title('Training and Validation Loss')\n",
        "plt.savefig('./plots-v2.png')\n",
        "plt.show()"
      ],
      "execution_count": 9,
      "outputs": [
        {
          "output_type": "display_data",
          "data": {
            "image/png": "[encoded data removed]",
            "text/plain": [
              "<Figure size 1152x576 with 2 Axes>"
            ]
          },
          "metadata": {
            "tags": []
          }
        }
      ]
    },
    {
      "cell_type": "markdown",
      "metadata": {
        "id": "9AJ1sDfzMq0w",
        "colab_type": "text"
      },
      "source": [
        "Finally save the model."
      ]
    },
    {
      "cell_type": "code",
      "metadata": {
        "id": "WFUKayEoMt0G",
        "colab_type": "code",
        "colab": {}
      },
      "source": [
        "model.save('galaxy-convnet-v2.h5')"
      ],
      "execution_count": 0,
      "outputs": []
    }
  ]
}